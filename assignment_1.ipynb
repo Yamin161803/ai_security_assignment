{
 "cells": [
  {
   "cell_type": "markdown",
   "metadata": {},
   "source": [
    "# Inlämningsuppgift: Del 2 - Adversarial input attack"
   ]
  },
  {
   "cell_type": "markdown",
   "metadata": {},
   "source": [
    "Philip Wollsén Ervius \\\n",
    "phao21@student.bth.se\n",
    "\n",
    "Amin Afzali \\\n",
    "moaf@student.bth.se"
   ]
  },
  {
   "cell_type": "markdown",
   "metadata": {},
   "source": [
    "# Instruktioner"
   ]
  },
  {
   "cell_type": "markdown",
   "metadata": {},
   "source": [
    "Notebookens underrubriker på nivå 3 (###) är bara ett enkelt exempel på hur er implementation kan delas upp. Ni bör skapa egna rubriker anpassade efter er implementation men lämna alla nivå 1 (#) och 2-rubriker (##) som de är. En viktig del inom data-science är att kunna presentera sina metoder och resultat på ett tydligt sätt. **En ostrukturerad och otydlig notebook kan påverka betygsättningen.**"
   ]
  },
  {
   "cell_type": "markdown",
   "metadata": {},
   "source": [
    "Notera att t.ex. hyperparameter-tuning och annan optimisering för prestanda inte är nödvändigt i denna uppgift. Så länge modellen fungerar märkvärt bättre än ett \"coin flip\" så räcker det att ni väljer era hyperparametrar manuellt."
   ]
  },
  {
   "cell_type": "markdown",
   "metadata": {},
   "source": [
    "# Uppgiften"
   ]
  },
  {
   "cell_type": "markdown",
   "metadata": {},
   "source": [
    "## Beskrivning av adversarial input attacker"
   ]
  },
  {
   "cell_type": "markdown",
   "metadata": {},
   "source": [
    "Börja med att förklara vad denna typ av attacker är och hur de fungerar i rapportens sektion 2.1."
   ]
  },
  {
   "cell_type": "markdown",
   "metadata": {},
   "source": [
    "## Implementation av er attack"
   ]
  },
  {
   "cell_type": "markdown",
   "metadata": {},
   "source": [
    "Beskriv i er rapport vad just er valda attack kallas och i detalj hur den fungerar (sektion 2.2 i rapporten). Beskriv även kort vilka bibliotek ni använder för att implementera den."
   ]
  },
  {
   "cell_type": "markdown",
   "metadata": {},
   "source": [
    "## Er kod för attacken"
   ]
  },
  {
   "cell_type": "markdown",
   "metadata": {},
   "source": [
    "### Bibliotek"
   ]
  },
  {
   "cell_type": "code",
   "execution_count": null,
   "metadata": {},
   "outputs": [],
   "source": [
    "import numpy as np\n",
    "import matplotlib.pyplot as plt\n",
    "import urllib.request\n",
    "import torch\n",
    "import torch.optim as optim\n",
    "import torchvision.transforms as transforms\n",
    "from torch.nn import CrossEntropyLoss\n",
    "from torchvision.models import resnet50, ResNet50_Weights\n",
    "from PIL import Image\n"
   ]
  },
  {
   "cell_type": "markdown",
   "metadata": {},
   "source": [
    "#### A pretrained ResNet50 model will be used"
   ]
  },
  {
   "cell_type": "code",
   "execution_count": null,
   "metadata": {},
   "outputs": [],
   "source": [
    "# Load pretrained ResNet-50 model\n",
    "\n",
    "model = resnet50(weights=ResNet50_Weights.IMAGENET1K_V1)\n",
    "\n",
    "model.eval();"
   ]
  },
  {
   "cell_type": "markdown",
   "metadata": {},
   "source": [
    "### Förberedelser"
   ]
  },
  {
   "cell_type": "code",
   "execution_count": null,
   "metadata": {},
   "outputs": [],
   "source": [
    "# These two functions allow us to get the names for labels, and vice versa.\n",
    "\n",
    "url = \"https://raw.githubusercontent.com/pytorch/hub/master/imagenet_classes.txt\"\n",
    "urllib.request.urlretrieve(url, \"imagenet_classes.txt\")\n",
    "with open(\"imagenet_classes.txt\") as f:\n",
    "    id_to_label = [line.strip() for line in f.readlines()]\n",
    "\n",
    "def get_class_name(label: int) -> str:\n",
    "    \"\"\"Returns the name of class as string.\"\"\"\n",
    "    return id_to_label[label]\n",
    "\n",
    "def get_label(name: str) -> int:\n",
    "    \"\"\"Returns the label corresponding to name.\"\"\"\n",
    "    return id_to_label.index(name)\n"
   ]
  },
  {
   "cell_type": "markdown",
   "metadata": {},
   "source": [
    "### Egna funktioner"
   ]
  },
  {
   "cell_type": "code",
   "execution_count": null,
   "metadata": {},
   "outputs": [],
   "source": [
    "# Define image transformations\n",
    "\n",
    "preprocess = transforms.Compose([\n",
    "    transforms.Resize(256),\n",
    "    transforms.CenterCrop(224),\n",
    "    transforms.ToTensor(),\n",
    "    transforms.Normalize(mean=[0.485, 0.456, 0.406], std=[0.229, 0.224, 0.225]),\n",
    "])\n",
    "\n",
    "unnormalize = transforms.Normalize(mean=[-0.485 / 0.229, -0.456 / 0.224, -0.406 / 0.225], std=[1 / 0.229, 1 / 0.224, 1 / 0.225])\n",
    "\n",
    "# Function to load and preprocess image\n",
    "def load_image(image_path):\n",
    "    image = Image.open(image_path)\n",
    "    image = preprocess(image)\n",
    "    image = image.unsqueeze(0)  # Add batch dimension\n",
    "    return image\n",
    "\n",
    "def classify_image(img) -> int:\n",
    "    \"\"\"Classifies one image and returns the prediction label.\n",
    "\n",
    "    Parameters:\n",
    "        - img: tensor of preprocessed image.\n",
    "\n",
    "    Returns:\n",
    "        - int predicted label for the image.\"\"\"\n",
    "\n",
    "    with torch.no_grad():\n",
    "        output = model(img)\n",
    "    _, pred = torch.max(output, 1)\n",
    "    return pred\n",
    "\n",
    "def display_classifications(input_img_1 = \"images/koala.jpeg\", input_img_2 = \"images/tractor.jpeg\"):\n",
    "    \"\"\"Classifies and displays two images.\n",
    "\n",
    "    Default images are koala and tractor.\"\"\"\n",
    "\n",
    "    # Plot the images with predictions\n",
    "    fig, axes = plt.subplots(1, 2, figsize=(13, 6))\n",
    "\n",
    "    # Display predictions\n",
    "\n",
    "    if isinstance(input_img_1, str):\n",
    "        image_1 = load_image(input_img_1)\n",
    "    else:\n",
    "        image_1 = input_img_1\n",
    "\n",
    "    if isinstance(input_img_2, str):\n",
    "        image_2 = load_image(input_img_2)\n",
    "    else:\n",
    "        image_2 = input_img_2\n",
    "\n",
    "    image_1.requires_grad_(False)\n",
    "    image_2.requires_grad_(False)\n",
    "\n",
    "\n",
    "    axes[0].imshow(unnormalize(image_1.squeeze(0)).permute(1, 2, 0).numpy())\n",
    "    axes[1].imshow(unnormalize(image_2.squeeze(0)).permute(1, 2, 0).numpy())\n",
    "\n",
    "    koala_pred = classify_image(image_1)\n",
    "    tractor_pred = classify_image(image_2)\n",
    "\n",
    "    axes[0].set_title(f'Predicted: {get_class_name(koala_pred.item())}')\n",
    "    axes[1].set_title(f'Predicted: {get_class_name(tractor_pred.item())}')\n",
    "\n",
    "    axes[0].axis('off')\n",
    "    axes[1].axis('off')\n",
    "\n",
    "    plt.tight_layout()\n",
    "    plt.show()\n",
    "\n",
    "\n",
    "display_classifications()\n"
   ]
  },
  {
   "cell_type": "code",
   "execution_count": null,
   "metadata": {},
   "outputs": [],
   "source": [
    "def train(img, label):\n",
    "    \"\"\"Trains the model on a single image.\n",
    "    \n",
    "    Parameters:\n",
    "        - img: tensor of preprocessed image.\n",
    "        - label: int target label for the image.\n",
    "    \"\"\"\n",
    "\n",
    "    # Define loss function and optimizer\n",
    "    criterion = CrossEntropyLoss()\n",
    "    optimizer = optim.Adam(model.parameters(), lr=0.0005, weight_decay=0.0001)\n",
    "\n",
    "    # Set the model to training mode\n",
    "    model.train()\n",
    "    running_loss = 0.0\n",
    "\n",
    "    # Prepare the input and label\n",
    "    labels = torch.tensor([label])\n",
    "\n",
    "    optimizer.zero_grad()\n",
    "    outputs = model(img)\n",
    "    loss = criterion(outputs, labels)\n",
    "    loss.backward()\n",
    "    optimizer.step()\n",
    "    running_loss += loss.item()\n",
    "\n",
    "    print(f'Loss: {running_loss:.3f}')\n",
    "    # print('Finished Training')\n"
   ]
  },
  {
   "cell_type": "code",
   "execution_count": null,
   "metadata": {},
   "outputs": [],
   "source": [
    "def calculate_gradient(img, label):\n",
    "    \"\"\"Calculates the gradient of the loss with respect to the input image.\n",
    "    \n",
    "    Parameters:\n",
    "        - img: tensor of preprocessed image.\n",
    "        - label: int target label for the image.\n",
    "        \n",
    "    Returns:\n",
    "        - gradients: tensor of gradients with respect to the input image.\n",
    "    \"\"\"\n",
    "\n",
    "    # Ensure the input tensor requires gradients\n",
    "    img.requires_grad_(True)\n",
    "    \n",
    "    criterion = CrossEntropyLoss()\n",
    "    labels = torch.tensor([label])\n",
    "\n",
    "    outputs = model(img)\n",
    "    loss = criterion(outputs, labels)\n",
    "    loss.backward()\n",
    "\n",
    "    gradients = img.grad\n",
    "    return gradients\n"
   ]
  },
  {
   "cell_type": "code",
   "execution_count": null,
   "metadata": {},
   "outputs": [],
   "source": [
    "\n",
    "def create_attack_image(img, label, delta = 0.001):\n",
    "\n",
    "    output = img.detach().clone()\n",
    "    output.requires_grad_(True)\n",
    "    max_iter = 100\n",
    "\n",
    "    for i in range(max_iter):\n",
    "        print(i)\n",
    "\n",
    "        if classify_image(output) == label:\n",
    "            print(f\"Attack image successful with noice strength {i * delta}\")\n",
    "            break\n",
    "\n",
    "        gradient = calculate_gradient(output, label)\n",
    "        output = output + gradient * delta * i\n",
    "\n",
    "    return output\n"
   ]
  },
  {
   "cell_type": "code",
   "execution_count": null,
   "metadata": {},
   "outputs": [],
   "source": [
    "# Samla era egna funktioner relaterade till attacken här\n",
    "# Funktionerna ska kort beskrivas med docstrings och kommentarer så att man förstår syftet och implementationen\n",
    "# Blir det många bör ni bryta ut dessa i en separat fil"
   ]
  },
  {
   "cell_type": "markdown",
   "metadata": {},
   "source": [
    "### Attack"
   ]
  },
  {
   "cell_type": "markdown",
   "metadata": {},
   "source": [
    "Beskriv attackprocessen kortfattat här"
   ]
  },
  {
   "cell_type": "code",
   "execution_count": null,
   "metadata": {},
   "outputs": [],
   "source": [
    "img = torch.randn(1, 3, 224, 224, requires_grad=True)\n",
    "label = get_label(\"tractor\")\n",
    "\n",
    "output = create_attack_image(img, label, 0.0001)\n",
    "\n",
    "display_classifications(img, output)\n",
    "\n",
    "# display_classifications(img, output)\n"
   ]
  },
  {
   "cell_type": "code",
   "execution_count": null,
   "metadata": {},
   "outputs": [],
   "source": [
    "# Attackutförande\n",
    "\n",
    "# Load the two images (koala & tractor)\n",
    "koala_image = load_image(\"images/koala.jpeg\")\n",
    "tractor_image = load_image(\"images/tractor.jpeg\")\n",
    "\n",
    "while (classify_image(tractor_image) != classify_image(koala_image)):\n",
    "    train(koala_image, get_label(\"tractor\"))\n"
   ]
  },
  {
   "cell_type": "markdown",
   "metadata": {},
   "source": [
    "### Attackresultat"
   ]
  },
  {
   "cell_type": "markdown",
   "metadata": {},
   "source": [
    "Summera och förklara era attackresultat i flytande text här"
   ]
  },
  {
   "cell_type": "code",
   "execution_count": null,
   "metadata": {},
   "outputs": [],
   "source": [
    "# Presentera attackens resultat m.h.a. kod här\n",
    "display_classifications()"
   ]
  },
  {
   "cell_type": "markdown",
   "metadata": {},
   "source": [
    "## Skyddsåtgärder"
   ]
  },
  {
   "cell_type": "markdown",
   "metadata": {},
   "source": [
    "Beskriv (i rapportens sektion 2.3) vilka säkerhetsåtgärd(er) ni valt som lämpliga för att skydda mot er attack. Motivera varför ni valt just de(n) metod(erna)."
   ]
  },
  {
   "cell_type": "markdown",
   "metadata": {},
   "source": [
    "## Implementation av skyddsåtgärder (frivilligt endast för A eller B)"
   ]
  },
  {
   "cell_type": "markdown",
   "metadata": {},
   "source": [
    "Nedan fyller ni i er kod som implementerar skyddsmekanismen mot er attackmetod. Skriv även en summering av vad skyddsresultatet blev när ni implementerade metoden (beskriv detta i rapportens del 2.4)."
   ]
  },
  {
   "cell_type": "markdown",
   "metadata": {},
   "source": [
    "### Egna funktioner"
   ]
  },
  {
   "cell_type": "code",
   "execution_count": null,
   "metadata": {},
   "outputs": [],
   "source": [
    "# Samla era egna funktioner relaterade till säkerhetsåtgärden här\n",
    "# Funktionerna ska kort beskrivas med docstrings och kommentarer så att man förstår syftet och implementationen\n",
    "# Blir det många bör ni bryta ut dessa i en separat fil"
   ]
  },
  {
   "cell_type": "markdown",
   "metadata": {},
   "source": [
    "### Förberedelser"
   ]
  },
  {
   "cell_type": "code",
   "execution_count": null,
   "metadata": {},
   "outputs": [],
   "source": [
    "# E.g. skapande av ny modell, etc."
   ]
  },
  {
   "cell_type": "markdown",
   "metadata": {},
   "source": [
    "### Skydd"
   ]
  },
  {
   "cell_type": "markdown",
   "metadata": {},
   "source": [
    "Beskriv säkerhetsåtgärden kortfattat här"
   ]
  },
  {
   "cell_type": "code",
   "execution_count": null,
   "metadata": {},
   "outputs": [],
   "source": [
    "# Implementation av skyddsåtgärd"
   ]
  },
  {
   "cell_type": "markdown",
   "metadata": {},
   "source": [
    "### Skyddsresultat"
   ]
  },
  {
   "cell_type": "markdown",
   "metadata": {},
   "source": [
    "Bevisa och förklara era skyddsresultat i flytande text här"
   ]
  },
  {
   "cell_type": "code",
   "execution_count": null,
   "metadata": {},
   "outputs": [],
   "source": [
    "# Presentera skyddåtgärdens resultat m.h.a. kod här"
   ]
  },
  {
   "cell_type": "markdown",
   "metadata": {},
   "source": [
    "# Referenser"
   ]
  },
  {
   "cell_type": "markdown",
   "metadata": {},
   "source": [
    "Lista era referenser här. E.g. var ni hittat information om attacken, skyddsåtgärder eller bibliotekets dokumentation/repository."
   ]
  }
 ],
 "metadata": {
  "kernelspec": {
   "display_name": "Python 3",
   "language": "python",
   "name": "python3"
  },
  "language_info": {
   "codemirror_mode": {
    "name": "ipython",
    "version": 3
   },
   "file_extension": ".py",
   "mimetype": "text/x-python",
   "name": "python",
   "nbconvert_exporter": "python",
   "pygments_lexer": "ipython3",
   "version": "3.10.11"
  },
  "toc": {
   "base_numbering": 1,
   "nav_menu": {},
   "number_sections": true,
   "sideBar": true,
   "skip_h1_title": false,
   "title_cell": "Table of Contents",
   "title_sidebar": "Contents",
   "toc_cell": false,
   "toc_position": {},
   "toc_section_display": true,
   "toc_window_display": false
  },
  "varInspector": {
   "cols": {
    "lenName": 16,
    "lenType": 16,
    "lenVar": 40
   },
   "kernels_config": {
    "python": {
     "delete_cmd_postfix": "",
     "delete_cmd_prefix": "del ",
     "library": "var_list.py",
     "varRefreshCmd": "print(var_dic_list())"
    },
    "r": {
     "delete_cmd_postfix": ") ",
     "delete_cmd_prefix": "rm(",
     "library": "var_list.r",
     "varRefreshCmd": "cat(var_dic_list()) "
    }
   },
   "types_to_exclude": [
    "module",
    "function",
    "builtin_function_or_method",
    "instance",
    "_Feature"
   ],
   "window_display": false
  }
 },
 "nbformat": 4,
 "nbformat_minor": 4
}
